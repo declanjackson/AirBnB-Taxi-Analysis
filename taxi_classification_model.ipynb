{
 "cells": [
  {
   "cell_type": "code",
   "execution_count": 1,
   "source": [
    "import pandas as pd\n",
    "from datetime import datetime\n",
    "from sklearn.preprocessing import StandardScaler\n",
    "import numpy as np\n",
    "from sklearn.decomposition import PCA\n",
    "from sklearn.linear_model import LogisticRegression\n",
    "from matplotlib.colors import ListedColormap\n",
    "import matplotlib.pyplot as plt\n",
    "from sklearn.tree import DecisionTreeClassifier\n",
    "from sklearn import metrics\n",
    "from sklearn.metrics import plot_confusion_matrix\n",
    "from sklearn.naive_bayes import GaussianNB\n",
    "import seaborn as sns"
   ],
   "outputs": [],
   "metadata": {}
  },
  {
   "cell_type": "code",
   "execution_count": 2,
   "source": [
    "def get_month(time):\n",
    "    '''\n",
    "    Rounds a datetime to a month\n",
    "\n",
    "            Parameters:\n",
    "                    time (Timestamp): Any datetime\n",
    "\n",
    "            Returns:\n",
    "                    time_month (int): month of input datetime\n",
    "    '''\n",
    "    pu_datetime = datetime.fromisoformat(str(time))\n",
    "    return pu_datetime.month"
   ],
   "outputs": [],
   "metadata": {}
  },
  {
   "cell_type": "code",
   "execution_count": 3,
   "source": [
    "# read in taxi and airbnb data\n",
    "taxi_data_df = pd.read_csv('./processed_data/full_taxi_data_df_clean.csv')\n",
    "airbnb_data_df = pd.read_csv('./processed_data/zone_airbnb_info.csv')"
   ],
   "outputs": [],
   "metadata": {}
  },
  {
   "cell_type": "code",
   "execution_count": 4,
   "source": [
    "# extract the factors we need from the taxi data\n",
    "\n",
    "TAXI_PREDICTIVE_FACTORS = [\n",
    "    'pickup_datetime', \n",
    "    'pu_hour', \n",
    "    'PULocationID',\n",
    "    'DOLocationID',\n",
    "    'trip_duration', \n",
    "    'profit_label'\n",
    "    ]\n",
    "\n",
    "predictive_factors_df = taxi_data_df[TAXI_PREDICTIVE_FACTORS].copy()"
   ],
   "outputs": [],
   "metadata": {}
  },
  {
   "cell_type": "code",
   "execution_count": 5,
   "source": [
    "# get int of month of each trip\n",
    "predictive_factors_df['month'] = predictive_factors_df.apply(lambda x: get_month(x['pickup_datetime']), axis=1)\n",
    "\n",
    "# get int of pick up hour for each trip\n",
    "predictive_factors_df['pu_hour'] = predictive_factors_df.apply(lambda x: int(x['pu_hour'].split(':')[0]), axis=1)\n",
    "\n",
    "# we now dont need the pick up datetime\n",
    "predictive_factors_df.drop('pickup_datetime', axis=1, inplace=True)"
   ],
   "outputs": [],
   "metadata": {}
  },
  {
   "cell_type": "code",
   "execution_count": 6,
   "source": [
    "# extract the columns we need from the airbnb data\n",
    "AIRBNB_PREDICTIVE_FACTORS = [\n",
    "    'zone_y', \n",
    "    'counts', \n",
    "    'price', \n",
    "    'minimum_nights', \n",
    "    'number_of_reviews', \n",
    "    'reviews_per_month'\n",
    "    ]\n",
    "predictive_factors_airbnb = airbnb_data_df[AIRBNB_PREDICTIVE_FACTORS].copy()\n",
    "predictive_factors_airbnb.set_index('zone_y', inplace=True)"
   ],
   "outputs": [],
   "metadata": {}
  },
  {
   "cell_type": "code",
   "execution_count": 7,
   "source": [
    "# seperate our data into two for analysis - data with and data without AirBnB data\n",
    "data_w_o_airbnb = predictive_factors_df"
   ],
   "outputs": [],
   "metadata": {}
  },
  {
   "cell_type": "code",
   "execution_count": 8,
   "source": [
    "# add taxi data factors with airbnb data from trip pick up location\n",
    "data_w_airbnb = pd.merge(data_w_o_airbnb, predictive_factors_airbnb, left_on='PULocationID', right_index=True)"
   ],
   "outputs": [],
   "metadata": {}
  },
  {
   "cell_type": "code",
   "execution_count": 9,
   "source": [
    "# change column names to distinguish between Airbnb data from trip's pick up and drop off location\n",
    "column_changes_PU = {\n",
    "    'counts': 'PU_count',\n",
    "    'price': 'PU_price',\n",
    "    'minimum_nights': 'PU_min_nights',\n",
    "    'number_of_reviews': 'PU_number_of_reviews',\n",
    "    'reviews_per_month': 'PU_reviews_per_month'\n",
    "}\n",
    "\n",
    "data_w_airbnb.rename(columns=column_changes_PU, inplace=True)"
   ],
   "outputs": [],
   "metadata": {}
  },
  {
   "cell_type": "code",
   "execution_count": 10,
   "source": [
    "# add taxi data factors with airbnb data from trip drop off location\n",
    "data_w_airbnb = pd.merge(data_w_airbnb, predictive_factors_airbnb, left_on='DOLocationID', right_index=True)"
   ],
   "outputs": [],
   "metadata": {}
  },
  {
   "cell_type": "code",
   "execution_count": 11,
   "source": [
    "# change column names to distinguish between Airbnb data from trip's pick up and drop off location\n",
    "column_changes_DO = {\n",
    "    'counts': 'DO_count',\n",
    "    'price': 'DO_price',\n",
    "    'minimumnights': 'DO_min_nights',\n",
    "    'number_of_reviews': 'DO_number_of_reviews',\n",
    "    'reviews_per_month': 'DO_reviews_per_month'\n",
    "}\n",
    "\n",
    "data_w_airbnb.rename(columns=column_changes_DO, inplace=True)"
   ],
   "outputs": [],
   "metadata": {}
  },
  {
   "cell_type": "code",
   "execution_count": 12,
   "source": [
    "# create dict of zones to borough ID\n",
    "zone_lookup_df = pd.read_csv('data/taxi+_zone_lookup.csv')\n",
    "zone_lookup_dict = dict(zip(zone_lookup_df['LocationID'],zone_lookup_df['Borough_ID']))\n",
    "\n",
    "# change zone ID to borough ID\n",
    "data_w_airbnb['PULocationID'] = data_w_airbnb['PULocationID'].map(zone_lookup_dict)\n",
    "data_w_airbnb['DOLocationID'] = data_w_airbnb['DOLocationID'].map(zone_lookup_dict)\n",
    "data_w_o_airbnb['PULocationID'] = data_w_o_airbnb['PULocationID'].map(zone_lookup_dict)\n",
    "data_w_o_airbnb['DOLocationID'] = data_w_o_airbnb['DOLocationID'].map(zone_lookup_dict)\n",
    "\n",
    "# one hot encode Borough ID\n",
    "data_w_o_airbnb = pd.concat([data_w_o_airbnb,\n",
    "                        pd.get_dummies(data_w_o_airbnb['PULocationID'], prefix='PU_borough'), \n",
    "                        pd.get_dummies(data_w_o_airbnb['DOLocationID'], prefix='DO_borough')], \n",
    "                        axis=1)\n",
    "\n",
    "data_w_airbnb = pd.concat([data_w_airbnb,\n",
    "                        pd.get_dummies(data_w_airbnb['PULocationID'], prefix='PU_borough'), \n",
    "                        pd.get_dummies(data_w_airbnb['DOLocationID'], prefix='DO_borough')], \n",
    "                        axis=1)\n",
    "\n",
    "# no longer need location ID\n",
    "data_w_o_airbnb.drop(['PULocationID', 'DOLocationID'], axis=1, inplace=True)\n",
    "data_w_airbnb.drop(['PULocationID', 'DOLocationID'], axis=1, inplace=True)"
   ],
   "outputs": [],
   "metadata": {}
  },
  {
   "cell_type": "code",
   "execution_count": 13,
   "source": [
    "# split up into Train and Test, \n",
    "# train is months 5 and 6\n",
    "# test is month 7\n",
    "\n",
    "## WITH AIRBNB\n",
    "train_data_df_airbnb = data_w_airbnb.loc[data_w_airbnb['month'].isin([5,6])]\n",
    "print(train_data_df_airbnb.shape)\n",
    "test_data_df_airbnb = data_w_airbnb.loc[data_w_airbnb['month'] == 7]\n",
    "print(test_data_df_airbnb.shape)\n",
    "\n",
    "# WITHOUT AIRBNB\n",
    "train_data_df_base = data_w_o_airbnb.loc[data_w_o_airbnb['month'].isin([5,6])]\n",
    "print(train_data_df_base.shape)\n",
    "test_data_df_base = data_w_o_airbnb.loc[data_w_o_airbnb['month'] == 7]\n",
    "print(test_data_df_base.shape)"
   ],
   "outputs": [
    {
     "output_type": "stream",
     "name": "stdout",
     "text": [
      "(8679213, 24)\n",
      "(3666051, 24)\n",
      "(9664405, 16)\n",
      "(4076388, 16)\n"
     ]
    }
   ],
   "metadata": {}
  },
  {
   "cell_type": "code",
   "execution_count": 14,
   "source": [
    "# AIRBNB\n",
    "X_train_AB = train_data_df_airbnb.drop('profit_label', axis=1)\n",
    "X_test_AB = test_data_df_airbnb.drop('profit_label', axis=1)\n",
    "Y_train_AB = train_data_df_airbnb['profit_label']\n",
    "Y_test_AB = test_data_df_airbnb['profit_label']\n",
    "\n",
    "# WITHOUT AIRBNB\n",
    "\n",
    "X_train_base = train_data_df_base.drop('profit_label', axis=1)\n",
    "X_test_base = test_data_df_base.drop('profit_label', axis=1)\n",
    "Y_train_base = train_data_df_base['profit_label']\n",
    "Y_test_base = test_data_df_base['profit_label']\n",
    "\n",
    "\n"
   ],
   "outputs": [],
   "metadata": {}
  },
  {
   "cell_type": "code",
   "execution_count": 15,
   "source": [
    "# firstly, lets scale the data\n",
    "\n",
    "scaler = StandardScaler()\n",
    "\n",
    "X_train_AB = scaler.fit_transform(X_train_AB)\n",
    "X_test_AB = scaler.transform(X_test_AB)\n",
    "\n",
    "X_train_base = scaler.fit_transform(X_train_base)\n",
    "X_test_base = scaler.transform(X_test_base)"
   ],
   "outputs": [],
   "metadata": {}
  },
  {
   "cell_type": "code",
   "execution_count": 16,
   "source": [
    "# now apply PCA\n",
    "pca = PCA(n_components = 0.95)\n",
    "\n",
    "\n",
    "X_train_AB = pca.fit_transform(X_train_AB)\n",
    "X_test_AB = pca.transform(X_test_AB)\n",
    "\n",
    "X_train_base = pca.fit_transform(X_train_base)\n",
    "X_test_base = pca.transform(X_test_base)"
   ],
   "outputs": [],
   "metadata": {}
  },
  {
   "cell_type": "code",
   "execution_count": 17,
   "source": [
    "# NAIVE BAYES\n",
    "\n",
    "\n",
    "# with AirBNB\n",
    "nbG = GaussianNB()\n",
    "nbG.fit(X_train_AB, Y_train_AB)\n",
    "y_pred = nbG.predict(X_test_AB)\n",
    "print(\"Accuracy (with AirBnb):\",metrics.accuracy_score(Y_test_AB, y_pred))\n",
    "plot_confusion_matrix(nbG, X_test_AB, Y_test_AB, cmap=plt.cm.Blues, values_format = '')\n",
    "\n",
    "# without AirBNB\n",
    "nbG = GaussianNB()\n",
    "nbG.fit(X_train_base, Y_train_base)\n",
    "y_pred = nbG.predict(X_test_base)\n",
    "print(\"Accuracy (without AirBnb):\",metrics.accuracy_score(Y_test_base, y_pred))\n",
    "plot_confusion_matrix(nbG, X_test_base, Y_test_base, cmap=plt.cm.Blues, values_format = '')\n",
    "\n"
   ],
   "outputs": [
    {
     "output_type": "stream",
     "name": "stdout",
     "text": [
      "Accuracy (with AirBnb): 0.559243993059562\n",
      "Accuracy (without AirBnb): 0.5232239914355552\n"
     ]
    },
    {
     "output_type": "execute_result",
     "data": {
      "text/plain": [
       "<sklearn.metrics._plot.confusion_matrix.ConfusionMatrixDisplay at 0x7fbddc945850>"
      ]
     },
     "metadata": {},
     "execution_count": 17
    },
    {
     "output_type": "display_data",
     "data": {
      "image/png": "[encoded data removed]",
      "text/plain": [
       "<Figure size 432x288 with 2 Axes>"
      ]
     },
     "metadata": {
      "needs_background": "light"
     }
    },
    {
     "output_type": "display_data",
     "data": {
      "image/png": "[encoded data removed]",
      "text/plain": [
       "<Figure size 432x288 with 2 Axes>"
      ]
     },
     "metadata": {
      "needs_background": "light"
     }
    }
   ],
   "metadata": {}
  },
  {
   "cell_type": "code",
   "execution_count": 18,
   "source": [
    "# DECISION TREE\n",
    "\n",
    "dt_accuracy_airbnb = []\n",
    "dt_accuracy_no_airbnb = []\n",
    "for i in range(3,20):    \n",
    "    \n",
    "    clf = DecisionTreeClassifier(max_depth = i)\n",
    "    clf = clf.fit(X_train_AB,Y_train_AB)\n",
    "    y_pred = clf.predict(X_test_AB)\n",
    "    dt_accuracy_airbnb.append(metrics.accuracy_score(Y_test_AB, y_pred))\n",
    "    print(f'Accuracy with {i} depth (AirBnB):{metrics.accuracy_score(Y_test_AB, y_pred)}')\n",
    "\n",
    "    clf = DecisionTreeClassifier(max_depth = i)\n",
    "    clf = clf.fit(X_train_base,Y_train_base)\n",
    "    y_pred = clf.predict(X_test_base)\n",
    "    dt_accuracy_no_airbnb.append(metrics.accuracy_score(Y_test_base, y_pred))\n",
    "    print(f'Accuracy with {i} depth (No AirBnB):{metrics.accuracy_score(Y_test_base, y_pred)}')\n",
    "\n",
    "    "
   ],
   "outputs": [],
   "metadata": {}
  },
  {
   "cell_type": "code",
   "execution_count": null,
   "source": [
    "# with AirBNB\n",
    "dt1 = DecisionTreeClassifier(max_depth=25)\n",
    "dt1.fit(X_train_AB, Y_train_AB)\n",
    "y_pred = dt1.predict(X_test_AB)\n",
    "print(\"Accuracy (with AirBnb):\",metrics.accuracy_score(Y_test_AB, y_pred))\n",
    "plot_confusion_matrix(dt1, X_test_AB, Y_test_AB, cmap=plt.cm.Blues, values_format = '')\n"
   ],
   "outputs": [],
   "metadata": {}
  },
  {
   "cell_type": "code",
   "execution_count": null,
   "source": [
    "depth = range(1,16)\n",
    "sns.set_style('darkgrid')\n",
    "tree_graph_dict = {\n",
    "    'Depth': depth, \n",
    "    'DT Accuracy with AirBnB Data': dt_accuracy_airbnb, \n",
    "    'DT Accuracy without AirBnB Data': dt_accuracy_no_airbnb\n",
    "}\n",
    "\n",
    "tree_graph_df = pd.DataFrame(tree_graph_dict)\n",
    "tree_graph_df\n",
    "sns.lineplot(x='Depth',\n",
    "            y='value',\n",
    "            markers=True,\n",
    "            hue='variable',\n",
    "            data=pd.melt(tree_graph_df, ['Depth']))\n",
    "\n"
   ],
   "outputs": [],
   "metadata": {}
  },
  {
   "cell_type": "code",
   "execution_count": null,
   "source": [
    "# LOGISTIC REGRESSION\n",
    "# with AirBNB\n",
    "lgr = LogisticRegression(solver = 'saga', multi_class=\"multinomial\", max_iter=50)\n",
    "lgr.fit(X_train_AB, Y_train_AB)\n",
    "y_pred = lgr.predict(X_test_AB)\n",
    "print(\"Accuracy (with AirBnb):\",metrics.accuracy_score(Y_test_AB, y_pred))"
   ],
   "outputs": [],
   "metadata": {}
  },
  {
   "cell_type": "code",
   "execution_count": null,
   "source": [
    "\n",
    "# without AirBNB\n",
    "lgr = LogisticRegression(solver = 'saga', multi_class=\"multinomial\", max_iter=100)\n",
    "lgr.fit(X_train_base, Y_train_base)\n",
    "y_pred = lgr.predict(X_test_base)\n",
    "print(\"Accuracy (without AirBnb):\",metrics.accuracy_score(Y_test_base, y_pred))\n",
    "\n",
    "\n",
    "\n"
   ],
   "outputs": [],
   "metadata": {}
  },
  {
   "cell_type": "code",
   "execution_count": null,
   "source": [
    "# visualise logistic regression\n",
    "pca = PCA(n_components=2)\n",
    "lr = LogisticRegression(multi_class='auto', solver='liblinear')\n",
    "\n",
    "# fit and transform data\n",
    "X_train_pca = pca.fit_transform(X_train_AB)\n",
    "X_test_pca = pca.transform(X_test_AB)\n",
    "lr.fit(X_train_pca, Y_train_AB)"
   ],
   "outputs": [],
   "metadata": {}
  },
  {
   "cell_type": "code",
   "execution_count": null,
   "source": [
    "def plot_decision_regions(X, y, classifier, resolution=0.02):\n",
    "    # setup marker generator and color map\n",
    "    markers = ('s', 'x', 'o', '^', 'v')\n",
    "    colors = ('red', 'blue', 'lightgreen', 'gray', 'cyan')\n",
    "    cmap = ListedColormap(colors[:len(np.unique(y))])\n",
    "\n",
    "    # plot the decision surface\n",
    "    x1_min, x1_max = X[:, 0].min() - 1, X[:, 0].max() + 1\n",
    "    x2_min, x2_max = X[:, 1].min() - 1, X[:, 1].max() + 1\n",
    "    xx1, xx2 = np.meshgrid(np.arange(x1_min, x1_max, resolution),\n",
    "                           np.arange(x2_min, x2_max, resolution))\n",
    "    Z = classifier.predict(np.array([xx1.ravel(), xx2.ravel()]).T)\n",
    "    Z = Z.reshape(xx1.shape)\n",
    "    plt.contourf(xx1, xx2, Z, alpha=0.4, cmap=cmap)\n",
    "    plt.xlim(xx1.min(), xx1.max())\n",
    "    plt.ylim(xx2.min(), xx2.max())\n",
    "\n",
    "    # plot class samples\n",
    "    for idx, cl in enumerate(np.unique(y)):\n",
    "        plt.scatter(x=X[y == cl, 0], \n",
    "                    y=X[y == cl, 1],\n",
    "                    alpha=0.6, \n",
    "                    c=[cmap(idx)],\n",
    "                    edgecolor='black',\n",
    "                    marker=markers[idx], \n",
    "                    label=cl) # plot decision regions for training set\n",
    "\n",
    "\n",
    "plot_decision_regions(X_train_pca, Y_train_AB, classifier=lr)\n",
    "plt.xlabel('PC 1')\n",
    "plt.ylabel('PC 2')\n",
    "plt.legend(loc='upper left')\n",
    "plt.show()"
   ],
   "outputs": [],
   "metadata": {}
  }
 ],
 "metadata": {
  "orig_nbformat": 4,
  "language_info": {
   "name": "python",
   "version": "3.8.5",
   "mimetype": "text/x-python",
   "codemirror_mode": {
    "name": "ipython",
    "version": 3
   },
   "pygments_lexer": "ipython3",
   "nbconvert_exporter": "python",
   "file_extension": ".py"
  },
  "kernelspec": {
   "name": "python3",
   "display_name": "Python 3.8.5 64-bit ('base': conda)"
  },
  "interpreter": {
   "hash": "8e93762ce26157543dddba731cb4c23b4c88be6f22dc743c1c6a9259770c1b2a"
  }
 },
 "nbformat": 4,
 "nbformat_minor": 2
}