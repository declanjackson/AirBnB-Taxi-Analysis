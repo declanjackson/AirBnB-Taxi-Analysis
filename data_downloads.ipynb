{
 "cells": [
  {
   "cell_type": "code",
   "execution_count": null,
   "source": [
    "import requests\n",
    "YELLOW_URLS = [\n",
    "    'https://s3.amazonaws.com/nyc-tlc/trip+data/yellow_tripdata_2019-05.csv',\n",
    "    'https://s3.amazonaws.com/nyc-tlc/trip+data/yellow_tripdata_2019-06.csv',\n",
    "    'https://nyc-tlc.s3.amazonaws.com/trip+data/yellow_tripdata_2019-07.csv'\n",
    "\n",
    "]\n",
    "\n",
    "GREEN_URLS = [\n",
    "    'https://s3.amazonaws.com/nyc-tlc/trip+data/green_tripdata_2019-05.csv',\n",
    "    'https://s3.amazonaws.com/nyc-tlc/trip+data/green_tripdata_2019-06.csv',\n",
    "    'https://nyc-tlc.s3.amazonaws.com/trip+data/green_tripdata_2019-07.csv'\n",
    "\n",
    "]"
   ],
   "outputs": [],
   "metadata": {}
  },
  {
   "cell_type": "code",
   "execution_count": null,
   "source": [
    "for i in len(YELLOW_URLS):\n",
    "    url = YELLOW_URLS[i]\n",
    "    downloaded_obj = requests.get(url, allow_redirects=True)\n",
    "    save_path = \"./data/yellow_tripdata_2019-0\" + str(i+5) + '.csv'\n",
    "    with open(save_path, \"wb\") as file:\n",
    "        file.write(downloaded_obj.content)\n",
    "\n",
    "for i in len(GREEN_URLS):\n",
    "    url = GREEN_URLS[i]\n",
    "    downloaded_obj = requests.get(url, allow_redirects=True)\n",
    "    save_path = \"./data/green_tripdata_2019-0\" + str(i+5) + '.csv'\n",
    "    with open(save_path, \"wb\") as file:\n",
    "        file.write(downloaded_obj.content)"
   ],
   "outputs": [],
   "metadata": {}
  }
 ],
 "metadata": {
  "orig_nbformat": 4,
  "language_info": {
   "name": "python",
   "version": "3.8.5",
   "mimetype": "text/x-python",
   "codemirror_mode": {
    "name": "ipython",
    "version": 3
   },
   "pygments_lexer": "ipython3",
   "nbconvert_exporter": "python",
   "file_extension": ".py"
  },
  "kernelspec": {
   "name": "python3",
   "display_name": "Python 3.8.5 64-bit ('base': conda)"
  },
  "interpreter": {
   "hash": "8e93762ce26157543dddba731cb4c23b4c88be6f22dc743c1c6a9259770c1b2a"
  }
 },
 "nbformat": 4,
 "nbformat_minor": 2
}