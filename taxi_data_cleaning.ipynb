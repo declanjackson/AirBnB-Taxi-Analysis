{
 "cells": [
  {
   "cell_type": "code",
   "execution_count": 11,
   "source": [
    "import pandas as pd\n",
    "import warnings\n",
    "from datetime import datetime\n",
    "import numpy as np\n",
    "import seaborn as sns\n",
    "from matplotlib import pyplot as plt\n",
    "\n",
    "\n",
    "warnings.filterwarnings(\"ignore\")"
   ],
   "outputs": [],
   "metadata": {}
  },
  {
   "cell_type": "code",
   "execution_count": 1,
   "source": [
    "# loading in the data\n",
    "\n",
    "TAXI_FILES = [\n",
    "                './data/yellow_tripdata_2019-05.csv',\\\n",
    "                './data/yellow_tripdata_2019-06.csv', \\\n",
    "                './data/yellow_tripdata_2019-07.csv', \\\n",
    "                './data/green_tripdata_2019-05.csv', \\\n",
    "                './data/green_tripdata_2019-06.csv', \\\n",
    "                './data/green_tripdata_2019-07.csv'\n",
    "]"
   ],
   "outputs": [],
   "metadata": {}
  },
  {
   "cell_type": "code",
   "execution_count": 3,
   "source": [
    "full_taxi_data_df = pd.DataFrame()\n",
    "chosen_taxi_files = TAXI_FILES\n",
    "parse_date_columns_yellow = ['tpep_pickup_datetime', 'tpep_dropoff_datetime']\n",
    "parse_date_columns_green = ['lpep_pickup_datetime', 'lpep_dropoff_datetime']\n",
    "data_types = {\n",
    "                'store_and_fwd_flag': str,\n",
    "}\n",
    "\n",
    "\n",
    "# append all dataframe to a single dataframe with flags for green or yellow taxi             \n",
    "for taxi_file in chosen_taxi_files:\n",
    "\n",
    "    # for yellow taxi data\n",
    "    if 'yellow' in taxi_file:\n",
    "        df = pd.read_csv(taxi_file, dtype=data_types, parse_dates= parse_date_columns_yellow, dayfirst=True)\n",
    "        df.rename(columns={\"tpep_pickup_datetime\": \"pickup_datetime\", \"tpep_dropoff_datetime\": \"dropoff_datetime\"}, inplace=True)\n",
    "        df['is_yellow'] = 1\n",
    "    \n",
    "    # for green taxi data\n",
    "    else:\n",
    "        df = pd.read_csv(taxi_file, dtype=data_types, parse_dates= parse_date_columns_green, dayfirst=True)\n",
    "        \n",
    "        # these are extra green taxi columns - we do not require them\n",
    "        df.drop(['ehail_fee', 'trip_type'], axis=1, inplace=True)\n",
    "        \n",
    "        df.rename(columns={\"lpep_pickup_datetime\": \"pickup_datetime\", \"lpep_dropoff_datetime\": \"dropoff_datetime\"}, inplace=True)\n",
    "        df['is_yellow'] = 0\n",
    "    \n",
    "    # if any rows are full of NaNs, drop them\n",
    "    df.dropna(how='all', inplace=True)\n",
    "\n",
    "    # add the file df to our overall df\n",
    "    full_taxi_data_df = full_taxi_data_df.append(df)"
   ],
   "outputs": [],
   "metadata": {}
  },
  {
   "cell_type": "code",
   "execution_count": 4,
   "source": [
    "# original shape\n",
    "full_taxi_data_df.shape"
   ],
   "outputs": [
    {
     "output_type": "execute_result",
     "data": {
      "text/plain": [
       "(22263386, 19)"
      ]
     },
     "metadata": {},
     "execution_count": 4
    }
   ],
   "metadata": {}
  },
  {
   "cell_type": "code",
   "execution_count": 5,
   "source": [
    "# remove columns we dont need\n",
    "COLS_TO_DROP = [\n",
    "    'passenger_count', \n",
    "    'store_and_fwd_flag', \n",
    "    'extra', 'mta_tax', \n",
    "    'tolls_amount', \n",
    "    'improvement_surcharge', \n",
    "    'congestion_surcharge'\n",
    "    ]\n",
    "\n",
    "full_taxi_data_df.drop(COLS_TO_DROP, axis=1, inplace=True)"
   ],
   "outputs": [],
   "metadata": {}
  },
  {
   "cell_type": "code",
   "execution_count": 6,
   "source": [
    "# shape after removing columns that arent needed\n",
    "full_taxi_data_df.shape"
   ],
   "outputs": [
    {
     "output_type": "execute_result",
     "data": {
      "text/plain": [
       "(22263386, 12)"
      ]
     },
     "metadata": {},
     "execution_count": 6
    }
   ],
   "metadata": {}
  },
  {
   "cell_type": "code",
   "execution_count": 7,
   "source": [
    "# vendor ID - only take rows with ID = 1 or 2\n",
    "VALID_VENDOR_ID = [1,2]\n",
    "print(full_taxi_data_df['VendorID'].value_counts())\n",
    "invalid_vendor = full_taxi_data_df[~full_taxi_data_df['payment_type'].isin(VALID_VENDOR_ID)].index\n",
    "full_taxi_data_df.drop(invalid_vendor, inplace=True)\n",
    "full_taxi_data_df.drop(['VendorID'], axis=1, inplace=True)\n",
    "print(full_taxi_data_df.shape)\n"
   ],
   "outputs": [
    {
     "output_type": "stream",
     "name": "stdout",
     "text": [
      "2.0    14353039\n",
      "1.0     7774519\n",
      "4.0       64502\n",
      "Name: VendorID, dtype: int64\n",
      "(21397111, 11)\n"
     ]
    }
   ],
   "metadata": {}
  },
  {
   "cell_type": "code",
   "execution_count": 8,
   "source": [
    "# DATES - only take trips that are in our time frame\n",
    "\n",
    "# drop trips started and completed before May 1 2019\n",
    "early_trips = full_taxi_data_df[(full_taxi_data_df['pickup_datetime'] < '2019-05-01') & (full_taxi_data_df['dropoff_datetime'] < '2019-05-01')].index\n",
    "full_taxi_data_df.drop(early_trips , inplace=True)\n",
    "\n",
    "# completed after June 30 2019\n",
    "late_trips = full_taxi_data_df[(full_taxi_data_df['pickup_datetime'] > '2019-07-31') & (full_taxi_data_df['dropoff_datetime'] > '2019-07-31')].index\n",
    "full_taxi_data_df.drop(late_trips , inplace=True)\n",
    "\n",
    "print(full_taxi_data_df.shape)"
   ],
   "outputs": [
    {
     "output_type": "stream",
     "name": "stdout",
     "text": [
      "(20660698, 11)\n"
     ]
    }
   ],
   "metadata": {}
  },
  {
   "cell_type": "code",
   "execution_count": 12,
   "source": [
    "sns.set_style('darkgrid')\n",
    "ax = sns.boxplot(x=full_taxi_data_df['trip_distance'])\n",
    "ax.set(xscale=\"log\")\n",
    "plt.savefig('figures/distance_pre_box.png')"
   ],
   "outputs": [
    {
     "output_type": "display_data",
     "data": {
      "image/png": "[encoded data removed]",
      "text/plain": [
       "<Figure size 432x288 with 1 Axes>"
      ]
     },
     "metadata": {}
    }
   ],
   "metadata": {}
  },
  {
   "cell_type": "code",
   "execution_count": 13,
   "source": [
    "# trip_distance - remove outliers (0.001 quantile)\n",
    "\n",
    "print(full_taxi_data_df['trip_distance'].describe())\n",
    "\n",
    "distance_cutoff = full_taxi_data_df['trip_distance'].quantile(.999)\n",
    "invalid_distance = full_taxi_data_df[(full_taxi_data_df['trip_distance'] > distance_cutoff) | (full_taxi_data_df['trip_distance'] < 0)].index\n",
    "full_taxi_data_df.drop(invalid_distance, inplace=True)\n",
    "\n",
    "print(full_taxi_data_df.shape)"
   ],
   "outputs": [
    {
     "output_type": "stream",
     "name": "stdout",
     "text": [
      "count    2.066070e+07\n",
      "mean     3.058372e+00\n",
      "std      1.085819e+01\n",
      "min      0.000000e+00\n",
      "25%      1.000000e+00\n",
      "50%      1.690000e+00\n",
      "75%      3.140000e+00\n",
      "max      4.597722e+04\n",
      "Name: trip_distance, dtype: float64\n",
      "(20593124, 11)\n"
     ]
    }
   ],
   "metadata": {}
  },
  {
   "cell_type": "code",
   "execution_count": 14,
   "source": [
    "# RatecodeID \n",
    "# only be using standard and JFK\n",
    "VALID_RATECODES = [1,2]\n",
    "\n",
    "print(full_taxi_data_df['RatecodeID'].value_counts())\n",
    "invalid_ratecodes = full_taxi_data_df[~full_taxi_data_df['RatecodeID'].isin(VALID_RATECODES)].index\n",
    "full_taxi_data_df.drop(invalid_ratecodes, inplace=True)\n",
    "full_taxi_data_df.drop(['RatecodeID'], axis=1, inplace=True)\n",
    "\n",
    "print(full_taxi_data_df.shape)"
   ],
   "outputs": [
    {
     "output_type": "stream",
     "name": "stdout",
     "text": [
      "1.0     19880374\n",
      "2.0       547958\n",
      "5.0       106611\n",
      "3.0        43457\n",
      "4.0        13862\n",
      "99.0         797\n",
      "6.0           65\n",
      "Name: RatecodeID, dtype: int64\n",
      "(20020332, 10)\n"
     ]
    }
   ],
   "metadata": {}
  },
  {
   "cell_type": "code",
   "execution_count": 15,
   "source": [
    "# LocationID - only take those in shapefile that are valid (1 - 263)\n",
    "\n",
    "VALID_LOCATIONS = list(range(1,264))\n",
    "invalid_pickups = full_taxi_data_df[~full_taxi_data_df['PULocationID'].isin(VALID_LOCATIONS)].index\n",
    "full_taxi_data_df.drop(invalid_pickups, inplace=True)\n",
    "invalid_dropoffs = full_taxi_data_df[~full_taxi_data_df['DOLocationID'].isin(VALID_LOCATIONS)].index\n",
    "full_taxi_data_df.drop(invalid_dropoffs, inplace=True)\n",
    "\n",
    "print(full_taxi_data_df.shape)"
   ],
   "outputs": [
    {
     "output_type": "stream",
     "name": "stdout",
     "text": [
      "(19411591, 10)\n"
     ]
    }
   ],
   "metadata": {}
  },
  {
   "cell_type": "code",
   "execution_count": 16,
   "source": [
    "# fare_amount\n",
    "\n",
    "# drop all negatives\n",
    "print(full_taxi_data_df['fare_amount'].describe())\n",
    "negative_fare = full_taxi_data_df[(full_taxi_data_df['fare_amount'] < 0)].index\n",
    "full_taxi_data_df.drop(negative_fare, inplace=True)\n",
    "\n",
    "print(full_taxi_data_df.shape)"
   ],
   "outputs": [
    {
     "output_type": "stream",
     "name": "stdout",
     "text": [
      "count    1.941159e+07\n",
      "mean     1.310409e+01\n",
      "std      7.950571e+01\n",
      "min     -1.580000e+02\n",
      "25%      6.500000e+00\n",
      "50%      9.500000e+00\n",
      "75%      1.500000e+01\n",
      "max      3.469500e+05\n",
      "Name: fare_amount, dtype: float64\n",
      "(19400470, 10)\n"
     ]
    }
   ],
   "metadata": {}
  },
  {
   "cell_type": "code",
   "execution_count": 17,
   "source": [
    "# total_amount - only take positive\n",
    "print(full_taxi_data_df['total_amount'].describe())\n",
    "negative_total = full_taxi_data_df[(full_taxi_data_df['total_amount'] < 0)].index\n",
    "full_taxi_data_df.drop(negative_total, inplace=True)\n",
    "\n",
    "print(full_taxi_data_df.shape)"
   ],
   "outputs": [
    {
     "output_type": "stream",
     "name": "stdout",
     "text": [
      "count    1.940047e+07\n",
      "mean     1.895463e+01\n",
      "std      7.994077e+01\n",
      "min      0.000000e+00\n",
      "25%      1.130000e+01\n",
      "50%      1.476000e+01\n",
      "75%      2.076000e+01\n",
      "max      3.470350e+05\n",
      "Name: total_amount, dtype: float64\n",
      "(19400470, 10)\n"
     ]
    }
   ],
   "metadata": {}
  },
  {
   "cell_type": "code",
   "execution_count": 18,
   "source": [
    "# payment_type - only take trips paid with cash as tips are more accurate\n",
    "\n",
    "VALID_PAYMENT_TYPE = 1\n",
    "print(full_taxi_data_df['payment_type'].value_counts())\n",
    "full_taxi_data_df = full_taxi_data_df[full_taxi_data_df.payment_type == VALID_PAYMENT_TYPE]\n",
    "full_taxi_data_df.drop(['payment_type'], axis=1, inplace=True)"
   ],
   "outputs": [
    {
     "output_type": "stream",
     "name": "stdout",
     "text": [
      "1.0    13832285\n",
      "2.0     5568185\n",
      "Name: payment_type, dtype: int64\n"
     ]
    }
   ],
   "metadata": {}
  },
  {
   "cell_type": "code",
   "execution_count": 19,
   "source": [
    "# our shape after removing 'invalid' rows\n",
    "full_taxi_data_df.shape"
   ],
   "outputs": [
    {
     "output_type": "execute_result",
     "data": {
      "text/plain": [
       "(13832285, 9)"
      ]
     },
     "metadata": {},
     "execution_count": 19
    }
   ],
   "metadata": {}
  },
  {
   "cell_type": "code",
   "execution_count": 22,
   "source": [
    "# connect column 'profit' \n",
    "\n",
    "def get_trip_duration(pickup_datetime, dropoff_datetime):\n",
    "    '''\n",
    "    Returns the duration in minutes of a trip, given a pickup and dropoff datetime\n",
    "\n",
    "            Parameters:\n",
    "                    pickup_datetime (Timestamp): Pick up datetime\n",
    "                    dropoff_datetime (Timestamp): Drop off up datetime\n",
    "\n",
    "            Returns:\n",
    "                    trip_duration (float): duration in minutes\n",
    "    '''\n",
    "    time_diff = dropoff_datetime - pickup_datetime\n",
    "    return (time_diff.seconds)//60\n"
   ],
   "outputs": [],
   "metadata": {}
  },
  {
   "cell_type": "code",
   "execution_count": 23,
   "source": [
    "# get every trip's duration\n",
    "full_taxi_data_df['trip_duration'] = full_taxi_data_df.apply(lambda x: get_trip_duration(x['pickup_datetime'], x['dropoff_datetime']), axis=1)\n"
   ],
   "outputs": [],
   "metadata": {}
  },
  {
   "cell_type": "code",
   "execution_count": 24,
   "source": [
    "sns.set_style('darkgrid')\n",
    "ax = sns.boxplot(x=full_taxi_data_df['trip_duration'], color='green')\n",
    "ax.set(xscale=\"log\")\n",
    "plt.savefig('figures/duration_pre_box.png')"
   ],
   "outputs": [
    {
     "output_type": "display_data",
     "data": {
      "image/png": "[encoded data removed]",
      "text/plain": [
       "<Figure size 432x288 with 1 Axes>"
      ]
     },
     "metadata": {}
    }
   ],
   "metadata": {}
  },
  {
   "cell_type": "code",
   "execution_count": 26,
   "source": [
    "# trip_duration - remove trips over 2.5h hrs\n",
    "\n",
    "print(full_taxi_data_df['trip_duration'].describe())\n",
    "duration_cutoff = 150\n",
    "invalid_duration = full_taxi_data_df[(full_taxi_data_df['trip_duration'] > duration_cutoff) | (full_taxi_data_df['trip_distance'] < 0)].index\n",
    "print(len(invalid_duration))\n",
    "full_taxi_data_df.drop(invalid_duration, inplace=True)"
   ],
   "outputs": [
    {
     "output_type": "stream",
     "name": "stdout",
     "text": [
      "count    1.383228e+07\n",
      "mean     1.803399e+01\n",
      "std      6.961989e+01\n",
      "min      0.000000e+00\n",
      "25%      7.000000e+00\n",
      "50%      1.100000e+01\n",
      "75%      1.900000e+01\n",
      "max      1.439000e+03\n",
      "Name: trip_duration, dtype: float64\n",
      "35542\n"
     ]
    }
   ],
   "metadata": {}
  },
  {
   "cell_type": "code",
   "execution_count": 27,
   "source": [
    "# dont need these columns\n",
    "\n",
    "full_taxi_data_df.drop(['fare_amount'], axis=1, inplace=True)\n",
    "full_taxi_data_df.drop(['tip_amount'], axis=1, inplace=True)"
   ],
   "outputs": [],
   "metadata": {}
  },
  {
   "cell_type": "code",
   "execution_count": 25,
   "source": [
    "def get_hour(time):\n",
    "    '''\n",
    "    Rounds a datetime to an hour\n",
    "\n",
    "            Parameters:\n",
    "                    time (Timestamp): Any datetime\n",
    "\n",
    "            Returns:\n",
    "                    time_hour (str): hour of input datetime\n",
    "    '''\n",
    "    pu_datetime = datetime.fromisoformat(str(time))\n",
    "    return pu_datetime.strftime('%H:00')"
   ],
   "outputs": [],
   "metadata": {}
  },
  {
   "cell_type": "code",
   "execution_count": 29,
   "source": [
    "# get the hour a trip started and finished\n",
    "full_taxi_data_df['pu_hour'] = full_taxi_data_df.apply(lambda x: get_hour(x['pickup_datetime']), axis=1)\n",
    "full_taxi_data_df['do_hour'] = full_taxi_data_df.apply(lambda x: get_hour(x['dropoff_datetime']), axis=1)"
   ],
   "outputs": [],
   "metadata": {}
  },
  {
   "cell_type": "code",
   "execution_count": 30,
   "source": [
    "# get taxi demand in a given zone\n",
    "\n",
    "# number of trips in dataset per zone per hour\n",
    "hour_demand_df = full_taxi_data_df.groupby(['PULocationID', 'pu_hour']).size().reset_index()\n",
    "hour_demand_df.rename(columns={0: 'count'}, inplace=True)"
   ],
   "outputs": [],
   "metadata": {}
  },
  {
   "cell_type": "code",
   "execution_count": 31,
   "source": [
    "# get an ID for each zone/hour combo\n",
    "zone_demand_keys = []\n",
    "for index,row in hour_demand_df.iterrows():\n",
    "    zone_demand_keys.append(str(row['PULocationID']) +'-'+ str(row['pu_hour']))"
   ],
   "outputs": [],
   "metadata": {}
  },
  {
   "cell_type": "code",
   "execution_count": 32,
   "source": [
    "# create a dict giving the number of trips per zone per hour in the data set\n",
    "hour_demand_df['zone_demand_key'] = np.array(zone_demand_keys)\n",
    "zone_demand_dict = hour_demand_df.set_index(\"zone_demand_key\")[\"count\"].to_dict()"
   ],
   "outputs": [],
   "metadata": {}
  },
  {
   "cell_type": "code",
   "execution_count": 33,
   "source": [
    "DAYS_IN_DATASET = 92\n",
    "def get_hourly_zone_demand(zone_demand_dict, PULocationID, pu_hour):\n",
    "    '''\n",
    "    Returns average number of trips per zone per day per hour\n",
    "\n",
    "            Parameters:\n",
    "                    zone_demand_dict (): A dictionary storing the hourly zone demand for each zone/hour combination\n",
    "                    PULocationID (int): \n",
    "                    pu_hour (): \n",
    "\n",
    "            Returns:\n",
    "                    time_hour ((pandas._libs.tslibs.timestamps.Timestamp)): duration in minutes\n",
    "    '''\n",
    "    demand_key = str(PULocationID) +'-'+ str(pu_hour)\n",
    "\n",
    "    # 1/92 is the base demand figure, so we need to add one to every existing demand figure\n",
    "    if demand_key in zone_demand_dict.keys():\n",
    "        return (zone_demand_dict[demand_key]+ 1) / DAYS_IN_DATASET\n",
    "    else:\n",
    "        return 1/DAYS_IN_DATASET\n"
   ],
   "outputs": [],
   "metadata": {}
  },
  {
   "cell_type": "code",
   "execution_count": 34,
   "source": [
    "# attach hourly demand figure for each trip, given its zone and pick up hour\n",
    "\n",
    "full_taxi_data_df['pu_zone_hourly_demand'] = full_taxi_data_df.apply(lambda x: get_hourly_zone_demand(zone_demand_dict, x['PULocationID'], x['pu_hour']), axis=1)\n",
    "full_taxi_data_df['do_zone_hourly_demand'] = full_taxi_data_df.apply(lambda x: get_hourly_zone_demand(zone_demand_dict, x['DOLocationID'], x['do_hour']), axis=1)"
   ],
   "outputs": [],
   "metadata": {}
  },
  {
   "cell_type": "code",
   "execution_count": 28,
   "source": [
    "# profit rate of a given trip\n",
    "\n",
    "CPM = 0.58 # cost per mile\n",
    "MINS_IN_HOUR = 60\n",
    "\n",
    "def get_trip_rate(total_amount, trip_distance, trip_duration, pu_zone_hourly_demand, drop_off_zone_hourly_demand):\n",
    "    '''\n",
    "    The profit rate of a given trip, calculated by the metric seen in equation (1) in report\n",
    "\n",
    "            Parameters:\n",
    "                    total_amount (float): cost of the trip in USD\n",
    "                    trip_distance (float): distance of the trip in miles\n",
    "                    trip_duration (float): duration of the trip in minutes\n",
    "                    pu_zone_hourly_demand (float): hourly demand of pickup zone\n",
    "                    drop_off_zone_hourly_demand (float): hourly demand of drop off zone\n",
    "\n",
    "            Returns:\n",
    "                    trip_rate (float): profit rate of a trip\n",
    "    '''\n",
    "    if trip_duration == 0:\n",
    "        return 0\n",
    "    return ((MINS_IN_HOUR*(total_amount - CPM * trip_distance))/(trip_duration) * pu_zone_hourly_demand * drop_off_zone_hourly_demand)"
   ],
   "outputs": [],
   "metadata": {}
  },
  {
   "cell_type": "code",
   "execution_count": 35,
   "source": [
    "# get profit rate of trip for each row in data set\n",
    "full_taxi_data_df['trip_profit_rate'] = full_taxi_data_df.apply(lambda x: get_trip_rate(x['total_amount'], x['trip_distance'], x['trip_duration'], x['pu_zone_hourly_demand'], x['do_zone_hourly_demand']), axis=1)"
   ],
   "outputs": [],
   "metadata": {}
  },
  {
   "cell_type": "code",
   "execution_count": 36,
   "source": [
    "# split into three equal bins\n",
    "\n",
    "def classify_profitability(x, low_limit, high_limit):\n",
    "    '''\n",
    "    Bins the profitability into three equal frequency bins\n",
    "\n",
    "            Parameters:\n",
    "                    x (float): profitability figure\n",
    "                    low_limit (float): lower tertile\n",
    "                    high_limit (float): upper tertile\n",
    "\n",
    "            Returns:\n",
    "                    bin (int): profitability label (1 for low, 2 for medium, 3 for high)\n",
    "    '''\n",
    "    if x < low_limit.values[0]:\n",
    "        return 1\n",
    "    elif x > high_limit.values[0]:\n",
    "        return 3\n",
    "    else:\n",
    "        return 2"
   ],
   "outputs": [],
   "metadata": {}
  },
  {
   "cell_type": "code",
   "execution_count": 37,
   "source": [
    "# we want equal frequency bins for set the lower tertile and upper tertile accordingly\n",
    "low_limit = full_taxi_data_df['trip_profit_rate'].quantile([1/3])\n",
    "high_limit = full_taxi_data_df['trip_profit_rate'].quantile([2/3])"
   ],
   "outputs": [],
   "metadata": {}
  },
  {
   "cell_type": "code",
   "execution_count": 38,
   "source": [
    "# give each trip a profit label and set it as categorical variable\n",
    "full_taxi_data_df['profit_label'] = full_taxi_data_df.apply(lambda x: classify_profitability(x['trip_profit_rate'],low_limit, high_limit), axis=1)\n",
    "full_taxi_data_df['profit_label'] = full_taxi_data_df.profit_label.astype('category')"
   ],
   "outputs": [],
   "metadata": {}
  },
  {
   "cell_type": "code",
   "execution_count": 39,
   "source": [
    "# save our results\n",
    "full_taxi_data_df.to_csv('processed_data/full_taxi_data_df_clean.csv', index=False)"
   ],
   "outputs": [],
   "metadata": {}
  }
 ],
 "metadata": {
  "orig_nbformat": 4,
  "language_info": {
   "name": "python",
   "version": "3.8.5",
   "mimetype": "text/x-python",
   "codemirror_mode": {
    "name": "ipython",
    "version": 3
   },
   "pygments_lexer": "ipython3",
   "nbconvert_exporter": "python",
   "file_extension": ".py"
  },
  "kernelspec": {
   "name": "python3",
   "display_name": "Python 3.8.5 64-bit ('base': conda)"
  },
  "interpreter": {
   "hash": "8e93762ce26157543dddba731cb4c23b4c88be6f22dc743c1c6a9259770c1b2a"
  }
 },
 "nbformat": 4,
 "nbformat_minor": 2
}