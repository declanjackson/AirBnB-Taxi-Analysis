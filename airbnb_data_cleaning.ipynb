{
 "cells": [
  {
   "cell_type": "code",
   "execution_count": 1,
   "source": [
    "import geopandas as gpd\n",
    "from shapely.geometry import shape, Point\n",
    "import shapely\n",
    "import pandas as pd\n",
    "import numpy as np\n"
   ],
   "outputs": [],
   "metadata": {}
  },
  {
   "cell_type": "code",
   "execution_count": 4,
   "source": [
    "# sf stands for shape file\n",
    "sf = gpd.read_file(\"./data/NYC Taxi Zones/geo_export_6bb49971-2dc7-4ad9-84f3-972baf69aca8.shp\")\n",
    "\n",
    "\n",
    "# Convert the geometry shape to to latitude and longitude\n",
    "# From University of Melbourne code\n",
    "sf['geometry'] = sf['geometry'].to_crs(\"+proj=longlat +ellps=WGS84 +datum=WGS84 +no_defs\")"
   ],
   "outputs": [],
   "metadata": {}
  },
  {
   "cell_type": "code",
   "execution_count": 12,
   "source": [
    "def get_zone(sf, lon, lat):\n",
    "    '''\n",
    "    Returns the zone of a specific location, given the longitude and latitude are in the zones outlined by the shapefile.\n",
    "\n",
    "            Parameters:\n",
    "                    sf (geopandas.geodataframe.GeoDataFrame): A decimal integer\n",
    "                    lon (float): Longitude of location\n",
    "                    lat (float): Latitude of location\n",
    "\n",
    "            Returns:\n",
    "                    location_id (float): ID from shapefile for the location of the coordinates\n",
    "    '''\n",
    "    point = Point(lon, lat)\n",
    "    for index, row in sf.iterrows():\n",
    "        taxi_zone = row['geometry']\n",
    "        if isinstance(taxi_zone, shapely.geometry.multipolygon.MultiPolygon):\n",
    "            for sub_zone in list(taxi_zone):\n",
    "                polygon = shape(sub_zone)\n",
    "                if polygon.contains(point):\n",
    "\n",
    "                    return(row['location_i'])\n",
    "        else:\n",
    "            polygon = shape(taxi_zone)\n",
    "            if polygon.contains(point):\n",
    "\n",
    "                return(row['location_i'])\n",
    "\n",
    "    return 0"
   ],
   "outputs": [],
   "metadata": {}
  },
  {
   "cell_type": "code",
   "execution_count": 14,
   "source": [
    "# Read CSV and drop columns that we dont need\n",
    "COLS_TO_DROP = [\n",
    "       'id',\n",
    "       'name', \n",
    "       'host_id', \n",
    "       'host_name', \n",
    "       'neighbourhood_group',\n",
    "       'neighbourhood',\n",
    "       'last_review', \n",
    "       'calculated_host_listings_count', \n",
    "       'availability_365'\n",
    "       ]\n",
    "\n",
    "airbnb_df = pd.read_csv('data/nyc_airbnb_data/AirBnB_NYC_2019.csv', parse_dates= ['last_review'], dayfirst=True)\n",
    "airbnb_df.drop(COLS_TO_DROP, axis=1, inplace=True)"
   ],
   "outputs": [],
   "metadata": {}
  },
  {
   "cell_type": "code",
   "execution_count": null,
   "source": [
    "# for each row, give it a taxi zone\n",
    "airbnb_df['ABLocationID'] = airbnb_df.apply(lambda x: get_zone(sf, x['longitude'], x['latitude']), axis=1)"
   ],
   "outputs": [],
   "metadata": {}
  },
  {
   "cell_type": "code",
   "execution_count": null,
   "source": [
    "# create new dataframe with stats per zone\n",
    "\n",
    "# get number of listings in each zone\n",
    "zone_df = airbnb_df['ABLocationID'].value_counts().rename_axis('zone').reset_index(name='counts')\n",
    "zone_df.sort_values(by = 'zone').reset_index(drop = True, inplace = True)"
   ],
   "outputs": [],
   "metadata": {}
  },
  {
   "cell_type": "code",
   "execution_count": null,
   "source": [
    "# Get median value for each zone's price,minimum_nights,number_of_reviews,reviews_per_month\n",
    "zone_airbnb_info = airbnb_df.groupby(['ABLocationID'])[['price','minimum_nights','number_of_reviews','reviews_per_month']].median()"
   ],
   "outputs": [],
   "metadata": {}
  },
  {
   "cell_type": "code",
   "execution_count": null,
   "source": [
    "# add the borough and zone name for each zone\n",
    "zone_airbnb_info = pd.merge(zone_airbnb_info, sf[['location_i', 'borough', 'zone']], left_on='ABLocationID', right_on='location_i')"
   ],
   "outputs": [],
   "metadata": {}
  },
  {
   "cell_type": "code",
   "execution_count": null,
   "source": [
    "# add number of listings per zone\n",
    "zone_airbnb_info.set_index('location_i', inplace = True)\n",
    "zone_airbnb_info = pd.merge(zone_airbnb_info, zone_df, left_on='location_i', right_on='zone')\n",
    "zone_airbnb_info.set_index('zone_y', inplace = True)"
   ],
   "outputs": [],
   "metadata": {}
  },
  {
   "cell_type": "code",
   "execution_count": null,
   "source": [
    "# fill missing values for 'reviews_per_month' with 0\n",
    "zone_airbnb_info['reviews_per_month'] = zone_airbnb_info['reviews_per_month'].fillna(value=0)"
   ],
   "outputs": [],
   "metadata": {}
  },
  {
   "cell_type": "code",
   "execution_count": 7,
   "source": [
    "# ceiling round minimum_nights\n",
    "zone_airbnb_info['minimum_nights'] = np.ceil(zone_airbnb_info.minimum_nights).astype(int)"
   ],
   "outputs": [],
   "metadata": {}
  },
  {
   "cell_type": "code",
   "execution_count": 11,
   "source": [
    "# save the output\n",
    "zone_airbnb_info.to_csv('processed_data/zone_airbnb_info.csv')"
   ],
   "outputs": [],
   "metadata": {}
  }
 ],
 "metadata": {
  "orig_nbformat": 4,
  "language_info": {
   "name": "python",
   "version": "3.8.5",
   "mimetype": "text/x-python",
   "codemirror_mode": {
    "name": "ipython",
    "version": 3
   },
   "pygments_lexer": "ipython3",
   "nbconvert_exporter": "python",
   "file_extension": ".py"
  },
  "kernelspec": {
   "name": "python3",
   "display_name": "Python 3.8.5 64-bit ('base': conda)"
  },
  "interpreter": {
   "hash": "8e93762ce26157543dddba731cb4c23b4c88be6f22dc743c1c6a9259770c1b2a"
  }
 },
 "nbformat": 4,
 "nbformat_minor": 2
}